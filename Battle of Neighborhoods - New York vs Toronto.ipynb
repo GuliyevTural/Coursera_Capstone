{
    "cells": [
        {
            "cell_type": "markdown",
            "metadata": {},
            "source": "# Battle of Neighborhoods - New York vs Toronto"
        },
        {
            "cell_type": "markdown",
            "metadata": {},
            "source": "## Introduction/Business Problem"
        },
        {
            "cell_type": "markdown",
            "metadata": {},
            "source": "When comparing the cities of New York and Toronto, the first thoughts that come to mind are that the both are the largest cities in, financial and touristic capitals of their respective developed countries in North America, while also having exceedingly diverse ethnic and cultural mix, high cost of living and massive infrastructure of transportation and skyscrapers.\n\nHowever, having the guidance on key differences & similarities between New York and Toronto neighborhoods still stays relevant for people when making preliminary choices between the two cities for several purposes, be it travelling, studying, working, doing business or immigrating. More explicitly, the purpose of this Capstone Project is exploring and clustering the neighborhoods of both cities and leaving the final outcome to the audience of the people as subtle reference to use for their personal decisions.\n"
        },
        {
            "cell_type": "markdown",
            "metadata": {},
            "source": "## Resources/Databases"
        },
        {
            "cell_type": "markdown",
            "metadata": {},
            "source": "In this project, I have referred below data sources to achieve the comprehensive and real-world comparative analysis:\n\n-\tFor general boroughs and neighborhoods dataset of \n\n    o\tToronto:  https://en.wikipedia.org/wiki/List_of_postal_codes_of_Canada:_M\n    \n    o\tNew York: https://geo.nyu.edu/catalog/nyu_2451_34572\n\n\n-\tFor geographical coordinates (latitudes and longitudes): Geocoder Python \n\n\n-\tFor venues and places in and proximity of corresponding neighborhoods: Foursquare API https://Foursquare.com\n\nAll of the above-stated resources have been integrated within the same Jupyter Notebook, in order to achieve interactive and reliable results in the end.\n"
        },
        {
            "cell_type": "code",
            "execution_count": null,
            "metadata": {},
            "outputs": [],
            "source": ""
        }
    ],
    "metadata": {
        "kernelspec": {
            "display_name": "Python 3.7",
            "language": "python",
            "name": "python3"
        },
        "language_info": {
            "codemirror_mode": {
                "name": "ipython",
                "version": 3
            },
            "file_extension": ".py",
            "mimetype": "text/x-python",
            "name": "python",
            "nbconvert_exporter": "python",
            "pygments_lexer": "ipython3",
            "version": "3.7.9"
        }
    },
    "nbformat": 4,
    "nbformat_minor": 1
}